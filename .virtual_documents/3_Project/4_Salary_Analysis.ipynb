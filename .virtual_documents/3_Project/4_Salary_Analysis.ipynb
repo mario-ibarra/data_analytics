


# Filter for the job titles and country
df_US = df[(df['job_country'] == 'United States')].dropna(subset=['salary_year_avg'])


job_titles = df_US['job_title_short'].value_counts().index[:6].tolist()

job_titles


# Get top 6 most common job titles
top6_titles = df_US['job_title_short'].value_counts().nlargest(6).index
df_US_top6 = df_US[df_US['job_title_short'].isin(top6_titles)]

# print(df_US_top6['salary_year_avg'].describe())


job_order = df_US_top6.groupby('job_title_short')['salary_year_avg'].median().sort_values(ascending=False).index


sns.set_theme(style='ticks')

plt.figure(figsize=(10, 6)) # Set size: make nice and big

sns.boxplot(data=df_US_top6, x='salary_year_avg', y='job_title_short', order=job_order)

# This is all the same
plt.title('Salary Distributions in the United States')
plt.xlabel('Yearly Salary (USD)')
plt.ylabel('')

# plt.xlim(0, 600000)
ticks_x = FuncFormatter(lambda y, pos: f'${int(y / 1000)}K')  # Note: divide by 1000, not 100
plt.gca().xaxis.set_major_formatter(ticks_x)

plt.tight_layout()
plt.show()




