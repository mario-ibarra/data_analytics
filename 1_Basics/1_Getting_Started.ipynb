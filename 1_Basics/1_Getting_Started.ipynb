{
 "cells": [
  {
   "cell_type": "markdown",
   "id": "4a6ac7fd",
   "metadata": {},
   "source": [
    "### This is markdown\n"
   ]
  },
  {
   "cell_type": "code",
   "execution_count": 1,
   "id": "662a4234",
   "metadata": {},
   "outputs": [],
   "source": [
    "import pandas as pd\n",
    "import numpy as np"
   ]
  },
  {
   "cell_type": "code",
   "execution_count": 2,
   "id": "9457914c",
   "metadata": {},
   "outputs": [],
   "source": [
    "df = pd.read_csv('data/data_jobs.csv')"
   ]
  },
  {
   "cell_type": "code",
   "execution_count": 4,
   "id": "f404707a",
   "metadata": {},
   "outputs": [],
   "source": [
    "\n",
    "df = df.head()"
   ]
  },
  {
   "cell_type": "code",
   "execution_count": 5,
   "id": "9a79b885",
   "metadata": {
    "scrolled": true
   },
   "outputs": [
    {
     "name": "stdout",
     "output_type": "stream",
     "text": [
      "        job_title_short                                          job_title  \\\n",
      "0  Senior Data Engineer  Senior Clinical Data Engineer / Principal Clin...   \n",
      "1          Data Analyst                                       Data Analyst   \n",
      "2         Data Engineer  Data Engineer/Scientist/Analyst, Mid or Senior...   \n",
      "3         Data Engineer  LEAD ENGINEER - PRINCIPAL ANALYST - PRINCIPAL ...   \n",
      "4         Data Engineer                             Data Engineer- Sr Jobs   \n",
      "\n",
      "                   job_location             job_via job_schedule_type  \\\n",
      "0                 Watertown, CT     via Work Nearby         Full-time   \n",
      "1  Guadalajara, Jalisco, Mexico    via BeBee México         Full-time   \n",
      "2               Berlin, Germany        via LinkedIn         Full-time   \n",
      "3               San Antonio, TX   via Diversity.com         Full-time   \n",
      "4                Washington, DC  via Clearance Jobs         Full-time   \n",
      "\n",
      "   job_work_from_home       search_location      job_posted_date  \\\n",
      "0               False  Texas, United States  2023-06-16 13:44:15   \n",
      "1               False                Mexico  2023-01-14 13:18:07   \n",
      "2               False               Germany  2023-10-10 13:14:55   \n",
      "3               False  Texas, United States  2023-07-04 13:01:41   \n",
      "4               False                 Sudan  2023-08-07 14:29:36   \n",
      "\n",
      "   job_no_degree_mention  job_health_insurance    job_country salary_rate  \\\n",
      "0                  False                 False  United States         NaN   \n",
      "1                  False                 False         Mexico         NaN   \n",
      "2                  False                 False        Germany         NaN   \n",
      "3                   True                 False  United States         NaN   \n",
      "4                  False                 False          Sudan         NaN   \n",
      "\n",
      "   salary_year_avg  salary_hour_avg                  company_name  \\\n",
      "0              NaN              NaN          Boehringer Ingelheim   \n",
      "1              NaN              NaN    Hewlett Packard Enterprise   \n",
      "2              NaN              NaN      ALPHA Augmented Services   \n",
      "3              NaN              NaN  Southwest Research Institute   \n",
      "4              NaN              NaN               Kristina Daniel   \n",
      "\n",
      "                                          job_skills  \\\n",
      "0                                                NaN   \n",
      "1  ['r', 'python', 'sql', 'nosql', 'power bi', 't...   \n",
      "2  ['python', 'sql', 'c#', 'azure', 'airflow', 'd...   \n",
      "3  ['python', 'c++', 'java', 'matlab', 'aws', 'te...   \n",
      "4  ['bash', 'python', 'oracle', 'aws', 'ansible',...   \n",
      "\n",
      "                                     job_type_skills  \n",
      "0                                                NaN  \n",
      "1  {'analyst_tools': ['power bi', 'tableau'], 'pr...  \n",
      "2  {'analyst_tools': ['dax'], 'cloud': ['azure'],...  \n",
      "3  {'cloud': ['aws'], 'libraries': ['tensorflow',...  \n",
      "4  {'cloud': ['oracle', 'aws'], 'other': ['ansibl...  \n"
     ]
    }
   ],
   "source": [
    "print(df)\n"
   ]
  },
  {
   "cell_type": "code",
   "execution_count": 8,
   "id": "3dd062d3",
   "metadata": {},
   "outputs": [
    {
     "name": "stdout",
     "output_type": "stream",
     "text": [
      "<class 'pandas.core.frame.DataFrame'>\n",
      "RangeIndex: 5 entries, 0 to 4\n",
      "Data columns (total 17 columns):\n",
      " #   Column                 Non-Null Count  Dtype  \n",
      "---  ------                 --------------  -----  \n",
      " 0   job_title_short        5 non-null      object \n",
      " 1   job_title              5 non-null      object \n",
      " 2   job_location           5 non-null      object \n",
      " 3   job_via                5 non-null      object \n",
      " 4   job_schedule_type      5 non-null      object \n",
      " 5   job_work_from_home     5 non-null      bool   \n",
      " 6   search_location        5 non-null      object \n",
      " 7   job_posted_date        5 non-null      object \n",
      " 8   job_no_degree_mention  5 non-null      bool   \n",
      " 9   job_health_insurance   5 non-null      bool   \n",
      " 10  job_country            5 non-null      object \n",
      " 11  salary_rate            0 non-null      object \n",
      " 12  salary_year_avg        0 non-null      float64\n",
      " 13  salary_hour_avg        0 non-null      float64\n",
      " 14  company_name           5 non-null      object \n",
      " 15  job_skills             4 non-null      object \n",
      " 16  job_type_skills        4 non-null      object \n",
      "dtypes: bool(3), float64(2), object(12)\n",
      "memory usage: 707.0+ bytes\n"
     ]
    }
   ],
   "source": [
    "df.info()\n"
   ]
  },
  {
   "cell_type": "code",
   "execution_count": 10,
   "id": "16ad7bfb",
   "metadata": {},
   "outputs": [
    {
     "name": "stdout",
     "output_type": "stream",
     "text": [
      "Number of rows: 5\n"
     ]
    }
   ],
   "source": [
    "num_rows = df.shape[0]\n",
    "print(f'Number of rows: {num_rows}')"
   ]
  },
  {
   "cell_type": "code",
   "execution_count": 11,
   "id": "a5d5beb2",
   "metadata": {},
   "outputs": [
    {
     "name": "stdout",
     "output_type": "stream",
     "text": [
      "Index(['job_title_short', 'job_title', 'job_location', 'job_via',\n",
      "       'job_schedule_type', 'job_work_from_home', 'search_location',\n",
      "       'job_posted_date', 'job_no_degree_mention', 'job_health_insurance',\n",
      "       'job_country', 'salary_rate', 'salary_year_avg', 'salary_hour_avg',\n",
      "       'company_name', 'job_skills', 'job_type_skills'],\n",
      "      dtype='object')\n"
     ]
    }
   ],
   "source": [
    "print(df.columns)"
   ]
  },
  {
   "cell_type": "code",
   "execution_count": 12,
   "id": "244a8228",
   "metadata": {},
   "outputs": [
    {
     "name": "stdout",
     "output_type": "stream",
     "text": [
      "['job_title_short', 'job_title', 'job_location', 'job_via', 'job_schedule_type', 'job_work_from_home', 'search_location', 'job_posted_date', 'job_no_degree_mention', 'job_health_insurance', 'job_country', 'salary_rate', 'salary_year_avg', 'salary_hour_avg', 'company_name', 'job_skills', 'job_type_skills']\n"
     ]
    }
   ],
   "source": [
    "column_list = df.columns.tolist()\n",
    "print(column_list)"
   ]
  },
  {
   "cell_type": "code",
   "execution_count": null,
   "id": "588e28a0",
   "metadata": {},
   "outputs": [],
   "source": []
  }
 ],
 "metadata": {
  "kernelspec": {
   "display_name": "pyth11",
   "language": "python",
   "name": "python3"
  },
  "language_info": {
   "codemirror_mode": {
    "name": "ipython",
    "version": 3
   },
   "file_extension": ".py",
   "mimetype": "text/x-python",
   "name": "python",
   "nbconvert_exporter": "python",
   "pygments_lexer": "ipython3",
   "version": "3.11.11"
  }
 },
 "nbformat": 4,
 "nbformat_minor": 5
}
