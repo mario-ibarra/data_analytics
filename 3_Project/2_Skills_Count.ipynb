{
 "cells": [],
 "metadata": {
  "kernelspec": {
   "display_name": "pyth11",
   "language": "python",
   "name": "python3"
  },
  "language_info": {
   "name": "python",
   "version": "3.11.11"
  }
 },
 "nbformat": 4,
 "nbformat_minor": 5
}
